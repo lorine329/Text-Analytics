{
 "cells": [
  {
   "cell_type": "markdown",
   "id": "c18fd1db-2305-4b68-ab09-eac4335dfca7",
   "metadata": {
    "tags": []
   },
   "source": [
    "# Recognizing Brand & Models"
   ]
  },
  {
   "cell_type": "code",
   "execution_count": 1,
   "id": "8e9514d7-d53a-464b-8d35-084f4f6231a3",
   "metadata": {},
   "outputs": [],
   "source": [
    "import pandas as pd"
   ]
  },
  {
   "cell_type": "code",
   "execution_count": 2,
   "id": "475860df-d4cf-49ed-9b0a-1204ad9ccd85",
   "metadata": {},
   "outputs": [],
   "source": [
    "models = pd.read_csv('models.csv', header = None, names = ['Brand', 'Model'])"
   ]
  },
  {
   "cell_type": "markdown",
   "id": "2f28abea-7a41-46c9-aebf-4bb02f04fc46",
   "metadata": {},
   "source": [
    "**Delete Duplicates**"
   ]
  },
  {
   "cell_type": "code",
   "execution_count": 3,
   "id": "e615b1e4-3964-4968-aef3-ae51e25988ac",
   "metadata": {},
   "outputs": [],
   "source": [
    "models['Brand'] = models['Brand'].str.lower()\n",
    "models['Model'] = models['Model'].str.lower()\n",
    "models['Combined'] = (models['Brand'] + ' ' + models['Model'])\n",
    "models['Combined'] = models['Combined'].str.replace('[\\s\\-,._]', '', regex = True)\n",
    "\n",
    "unique_model = models.drop_duplicates(subset = 'Combined')\n",
    "unique_model = unique_model.drop(columns = ['Combined'])"
   ]
  },
  {
   "cell_type": "markdown",
   "id": "2c774c40-aa8f-4863-bf7c-b09f4446084c",
   "metadata": {},
   "source": [
    "**Check Brand list**"
   ]
  },
  {
   "cell_type": "code",
   "execution_count": 4,
   "id": "545c383d-2d42-494a-ac6b-56a66f4852f6",
   "metadata": {},
   "outputs": [
    {
     "name": "stdout",
     "output_type": "stream",
     "text": [
      "['acura', 'audi', 'bmw', 'buick', 'cadillac', 'car', 'chevrolet', 'chrysler', 'dodge', 'ford', 'honda', 'hyndai kia', 'hyundai', 'hyundai,', 'infiniti', 'kia', 'lincoln', 'mazda', 'mercedes', 'mercury', 'mitsubishi', 'nissan', 'nissan.', 'pontiac', 'problem', 'saturn', 'seat', 'sedan', 'subaru', 'suzuki', 'toyata', 'toyota', 'volkswagen', 'volkwagen', 'volvo']\n"
     ]
    }
   ],
   "source": [
    "brand = unique_model['Brand'].unique().tolist()\n",
    "print(brand)"
   ]
  },
  {
   "cell_type": "markdown",
   "id": "b2a4c08f-d2c6-48a8-98cf-0b489663dffd",
   "metadata": {},
   "source": [
    "**Notice weird brands:**\n",
    "\n",
    "- _hyundai kia_, _car_, _problem_, _seat_ should be deleted\n",
    "- _hyndai kia_ should be _hyundai_\n",
    "- _hyundai,_ and _nissan._ should not have ',' and '.'.\n",
    "- _toyata_ should be _toyota_\n",
    "- _volkwagen_ should be _volkswagen_"
   ]
  },
  {
   "cell_type": "code",
   "execution_count": 5,
   "id": "df20ccd8-febd-4581-bcfc-9792e9a260bd",
   "metadata": {},
   "outputs": [],
   "source": [
    "new_model = unique_model[~unique_model['Brand'].isin(['hyundai kia', 'car', 'problem', 'seat'])]\n",
    "\n",
    "new_model.loc[new_model['Brand'].str.contains('hyundai') & ~ new_model['Brand'].eq('hyundai'), 'Brand'] = 'hyundai'\n",
    "new_model.loc[new_model['Brand'].str.contains('kia') & ~ new_model['Brand'].eq('kia'), 'Brand'] = 'kia'\n",
    "new_model.loc[new_model['Brand'].str.contains('nissan') & ~ new_model['Brand'].eq('nissan'), 'Brand'] = 'nissan'\n",
    "new_model.loc[new_model['Brand'].eq('toyata'), 'Brand'] = 'toyota'\n",
    "new_model.loc[new_model['Brand'].eq('volkwagen'), 'Brand'] = 'volkswagen'"
   ]
  },
  {
   "cell_type": "markdown",
   "id": "e9f07542-f156-48ae-81b1-747b227f1c57",
   "metadata": {},
   "source": [
    "**Delete Dup Again**"
   ]
  },
  {
   "cell_type": "code",
   "execution_count": 6,
   "id": "3338c842-245e-49b3-81d8-528cd5736aaf",
   "metadata": {},
   "outputs": [
    {
     "name": "stderr",
     "output_type": "stream",
     "text": [
      "/tmp/ipykernel_61100/354213253.py:1: SettingWithCopyWarning: \n",
      "A value is trying to be set on a copy of a slice from a DataFrame.\n",
      "Try using .loc[row_indexer,col_indexer] = value instead\n",
      "\n",
      "See the caveats in the documentation: https://pandas.pydata.org/pandas-docs/stable/user_guide/indexing.html#returning-a-view-versus-a-copy\n",
      "  new_model['Combined'] = (new_model['Brand'] + ' ' + new_model['Model'])\n",
      "/tmp/ipykernel_61100/354213253.py:2: SettingWithCopyWarning: \n",
      "A value is trying to be set on a copy of a slice from a DataFrame.\n",
      "Try using .loc[row_indexer,col_indexer] = value instead\n",
      "\n",
      "See the caveats in the documentation: https://pandas.pydata.org/pandas-docs/stable/user_guide/indexing.html#returning-a-view-versus-a-copy\n",
      "  new_model['Combined'] = new_model['Combined'].str.replace('[\\s\\-,._]', '', regex = True)\n"
     ]
    }
   ],
   "source": [
    "new_model['Combined'] = (new_model['Brand'] + ' ' + new_model['Model'])\n",
    "new_model['Combined'] = new_model['Combined'].str.replace('[\\s\\-,._]', '', regex = True)\n",
    "\n",
    "new_model = new_model.drop_duplicates(subset = 'Combined')\n",
    "new_model = new_model.drop(columns = ['Combined'])"
   ]
  },
  {
   "cell_type": "markdown",
   "id": "81369f82-1e55-40e0-a12b-cd518a6a9b84",
   "metadata": {},
   "source": [
    "**Check brand**"
   ]
  },
  {
   "cell_type": "code",
   "execution_count": 7,
   "id": "b5fbff63-f077-4121-99ab-136baf843f9a",
   "metadata": {},
   "outputs": [
    {
     "name": "stdout",
     "output_type": "stream",
     "text": [
      "['acura', 'audi', 'bmw', 'buick', 'cadillac', 'chevrolet', 'chrysler', 'dodge', 'ford', 'honda', 'kia', 'hyundai', 'infiniti', 'lincoln', 'mazda', 'mercedes', 'mercury', 'mitsubishi', 'nissan', 'pontiac', 'saturn', 'sedan', 'subaru', 'suzuki', 'toyota', 'volkswagen', 'volvo']\n"
     ]
    }
   ],
   "source": [
    "brand_list = new_model['Brand'].unique().tolist()\n",
    "print(brand_list)"
   ]
  },
  {
   "cell_type": "code",
   "execution_count": 8,
   "id": "ac43b526-c84e-4f28-83e7-ff1a222137dc",
   "metadata": {},
   "outputs": [
    {
     "name": "stdout",
     "output_type": "stream",
     "text": [
      "['integra', 'legend', 'vigor', 'rlx', 'ilx', 'mdx', 'rdx', 'tsx', 'rsx', 'quattro', 'a4', 'a6', 'a5', 'a7', 'q3', 'q5', 'q7', 'a8', 'a3', '3-series', '5-series', '6-series', '4-series', 'xdrive', 'alpina', '330ci', '328i', '330c', '335i', '335d', '528i', '535i', '128i', '640i', '3er', '5er', 'm5', 'm3', 'm6', 'bmws', 'bmwesque', 'park avenue', 'la crosse', 'century', 'enclave', 'encore', 'regal', 'buicks', 'escalade', 'srx', 'xts', 'grand blazer', 'trailblazer', 'silverado', 'colorado', 'corvette', 'suburban', 'cavalier', 'caprice', 'captiva', 'equinox', 'express', 'lacetti', 'montana', 'uplander', 'orlando', 'tornado', 'tracker', 'traverse', 'camaro', 'cobalt', 'impala', 'lumina', 'malibu', 'prisma', 'tavera', 'agile', 'celta', 'cruze', 'lanos', 'omega', 'optra', 'sonic', 'spark', 'tahoe', 'aveo', 'lova', 'n200', 'niva', 'onix', 's-10', 'sail', 'volt', 'chevy', 'malibus', 'town and country', 'chrysler 300', 'chrysler 200', 'pacifica', 'cruiser', 'sebring', '300m', 'lx', 'chryslers', 'challenger', 'intrepid', 'avenger', 'charger', 'durango', 'journey', 'caliber', 'stealth', 'magnum', 'viper', 'dart', 'ram', 'crownvictoria', 'expedition', 'supervan', 'freestar', 'explorer', 'mustang', 'ecoline', 'tourneo', 'everest', 'fiesta', 'fusion', 'taurus', 'galaxy', 'escape', 'focus', 'f-150', 'c-max', 's-max', 'kuga', 'fords', 'fusions', 'fusionmilan', 'crosstour', 'ridgeline', 'inspire', 'mobilio', 'prelude', 'shuttle', 'spirior', 'stepwgn', 'crider', 'insight', 'odyssey', 'stream', 'amaze', 'hobio', 'n-box', 'n-one', 'n-wgn', 'pilot', 'vamos', 'vezel', 'spike', 'acty', 'brio', 'city', 'civic', 'cr-v', 'freed', 'jade', 'zest', 'aria', 'ex-l', 'cr-z', 'jazz', 'nsx', 'fcx', '5dr', 'accord', 'hondas', 'accords', 'odessey', 'hyundaikia', 'centennial', 'grandeur', 'veloster', 'elantra', 'genesis', 'tiburon', 'tuscani', 'dynasty', 'santamo', 'stellar', 'accent', 'lantra', 'avante', 'santro', 'sonata', 'scoupe', 'matrix', 'lavity', 'verna', 'equus', 'azera', 'xcent', 'click', 'atos', 'atoz', 'ix20', 'getz', 'pony', 'i10', 'i20', 'i30', 'i40', 'i45', 'xg', 'santa', 'sonatas', 'hyundais', 'veracruz', 'excel,', 'qx50', 'qx60', 'qx70', 'fx35', 'q50', 'q60', 'q70', 'g37', 'g25', '6mt', 'cadenza', 'sorento', 'sedona', 'forte', 'koup', 'k900', 'kias', 'optima', 'navigator', 'town car', 'zephyr', 'mkz', 'mks', 'mkx', 'mkc', 'mkt', 'az-offroad', 'az-wagon', 'familia', 'premacy', 'biante', 'carol', 'scrum', 'mazda2', 'mazda3', 'mazda5', 'atenza', 'mazda6', 'mazda8', 'bongo', 'demio', 'axela', 'rx-8', 'cx-7', 'bt-50', 'mx-5', 'cx-5', 'cx-9', '6i', 'mazdas', 'mazda6s', 'mazda6i', 'mercedes-benz', 'benz', 'cl-class', 'c-class', 'e-class', 's-class', 'milan', 'mercury', 'galant', 'lancer', 'pathfinder', 'frontier', 'sentra', 'altima', 'maxima', 'murano', 'armada', 'xterra', 'versa', 'rogue', 'titan', 'cube', 'juke', 'leaf', '370z', 'altimas', 'nissans', 'quest.', 'streamliner', 'grand prix', 'grand am', 'sunfire', 'torpedo', 'aztek', 'vibe', 'wave', 'gxp', 'gto', 'g6', 'g3', 'g4', 'g5', 'g8', 'aura', 'sedans', 'outback sport', 'grand wagon', 'impreza xv', 'crosstrek', 'lancaster', 'forester', 'impreza', 'tribeca', 'liberty', 'outback', 'gravel', 'legacy', 'sambar', 'stella', 'exiga', 'pleo', 'brz', 'wrx', 'dex', 'r1', 'r2', 'every landy', 'cappuccino', 'mighty boy', 'geo metro', 'mr wagon', 'palette', 'wagon r', 'kizashi', 'equator', 'splash', 'ertiga', 'cultus', 'esteem', 'fronte', 'escudo', 'lapin', 'solio', 'swift', 'landy', 'jimny', 'aerio', 'liana', 'cervo', 'forsa', 'ignis', 'x-90', 'xl7', 'sx4', 'apv', 'camrybest', 'corolla/sprinter', 'urban cruiser', 'land cruiser', 'highlander', 'fj cruiser', 'hilux surf', 'fortuner', 'stallion', 'vanguard', '4runner', 'alphard', 'avensis', 'coaster', 'comfort', 'granvia', 'liteace', 'scepter', 'sequoia', 'succeed', 'townace', 'toyoace', 'venture', 'allion', 'aurion', 'avalon', 'avanza', 'condor', 'fiedler', 'majesta', 'estima', 'hiclass', 'innova', 'kijang', 'kingdom', 'kluger', 'miniace', 'picnic', 'premio', 'probox', 'qualis', 'ractis', 'sienna', 'sienta', 'sparky', 'tacoma', 'tamaraw', 'tarago', 'tundra', 'vienta', 'auris', 'belta', 'camry', 'carri', 'rumion', 'etios', 'hilux', 'hiace', 'mark x', 'passo', 'porte', 'prius', 'sofia', 'tiara', 'venza', 'verso', 'yaris', 'zelas', 'aygo', 'cami', 'dyna', 'isis', 'nadia', 'noah', 'raum', 'rav4', 'reiz', 'vios', 'voxy', 'platz', 'axio', 'ist', 'sai', 'vitz', 'echo', 'bb', 'iq', 'zio', 'camrys', 'solara', 'corolla', 'toyotas', 'sportwagen', 'touraeg', 'passat', 'tiguan', 'beetle', 'rabbit', 'jetta', 'golf', 'gti', 'eos', 'volkwagen', 'vw', 'vws', 'passats', 'xc60', 'xc70', 'xc90', 's60', 's80', 'v60', 'c70']\n"
     ]
    }
   ],
   "source": [
    "model_list = new_model['Model'].unique().tolist()\n",
    "print(model_list)"
   ]
  },
  {
   "cell_type": "markdown",
   "id": "9f68eeb5-e3b3-45aa-b5fb-880364414d4a",
   "metadata": {},
   "source": [
    "**Check model**"
   ]
  },
  {
   "cell_type": "code",
   "execution_count": 9,
   "id": "9e510a5a-0d7c-4671-926e-7620a80a7035",
   "metadata": {},
   "outputs": [
    {
     "name": "stdout",
     "output_type": "stream",
     "text": [
      "481\n",
      "478\n",
      "Rows with duplicate values in 'Model' column:\n",
      "       Brand    Model\n",
      "1      acura   legend\n",
      "44     buick  century\n",
      "171    honda   legend\n",
      "224  hyundai   matrix\n",
      "420   toyota  century\n",
      "444   toyota   matrix\n"
     ]
    }
   ],
   "source": [
    "print(len(new_model))\n",
    "print(new_model['Model'].nunique())\n",
    "duplicated_model = new_model[new_model.duplicated(subset = 'Model', keep = False)]\n",
    "print(\"Rows with duplicate values in 'Model' column:\")\n",
    "print(duplicated_model)"
   ]
  },
  {
   "cell_type": "markdown",
   "id": "3c0fc709-a389-4a74-b1d7-6ab309d4cb25",
   "metadata": {},
   "source": [
    "**Modify model dup & create dictionary for models**"
   ]
  },
  {
   "cell_type": "code",
   "execution_count": 10,
   "id": "873c5476-c985-41a3-8f13-84d19407b7ae",
   "metadata": {},
   "outputs": [
    {
     "name": "stdout",
     "output_type": "stream",
     "text": [
      "481\n"
     ]
    }
   ],
   "source": [
    "modify_rows = [1,44,171, 224, 420, 444]\n",
    "new_model.loc[modify_rows, 'Model'] = new_model.loc[modify_rows, 'Brand'] + ' ' + new_model.loc[modify_rows, 'Model']\n",
    "print(new_model['Model'].nunique())\n",
    "model_dict = new_model.set_index('Model')['Brand'].to_dict()"
   ]
  },
  {
   "cell_type": "markdown",
   "id": "21b90f17-818c-4f7c-be3d-cf213a114dff",
   "metadata": {},
   "source": [
    "# Load All Comments"
   ]
  },
  {
   "cell_type": "code",
   "execution_count": 11,
   "id": "03761b8e-e407-42ae-b68e-277755617610",
   "metadata": {
    "tags": []
   },
   "outputs": [],
   "source": [
    "comments = pd.read_csv('AllComments.csv', on_bad_lines='skip')"
   ]
  },
  {
   "cell_type": "code",
   "execution_count": 12,
   "id": "af18d9c8-65d8-4b87-b729-7e5f5a6974f1",
   "metadata": {
    "tags": []
   },
   "outputs": [
    {
     "data": {
      "text/html": [
       "<div>\n",
       "<style scoped>\n",
       "    .dataframe tbody tr th:only-of-type {\n",
       "        vertical-align: middle;\n",
       "    }\n",
       "\n",
       "    .dataframe tbody tr th {\n",
       "        vertical-align: top;\n",
       "    }\n",
       "\n",
       "    .dataframe thead th {\n",
       "        text-align: right;\n",
       "    }\n",
       "</style>\n",
       "<table border=\"1\" class=\"dataframe\">\n",
       "  <thead>\n",
       "    <tr style=\"text-align: right;\">\n",
       "      <th></th>\n",
       "      <th>User Name</th>\n",
       "      <th>Comment Date</th>\n",
       "      <th>Full Comment</th>\n",
       "    </tr>\n",
       "  </thead>\n",
       "  <tbody>\n",
       "    <tr>\n",
       "      <th>0</th>\n",
       "      <td>bdreggors</td>\n",
       "      <td>June 2000</td>\n",
       "      <td>One of my current favorites is the Lexus IS c...</td>\n",
       "    </tr>\n",
       "    <tr>\n",
       "      <th>1</th>\n",
       "      <td>markz2k</td>\n",
       "      <td>June 2000</td>\n",
       "      <td>What's the deal with the Dog family in the Od...</td>\n",
       "    </tr>\n",
       "    <tr>\n",
       "      <th>2</th>\n",
       "      <td>roadroach</td>\n",
       "      <td>June 2000</td>\n",
       "      <td>The whole point of commercials is to get your...</td>\n",
       "    </tr>\n",
       "  </tbody>\n",
       "</table>\n",
       "</div>"
      ],
      "text/plain": [
       "   User Name Comment Date                                       Full Comment\n",
       "0  bdreggors    June 2000   One of my current favorites is the Lexus IS c...\n",
       "1    markz2k    June 2000   What's the deal with the Dog family in the Od...\n",
       "2  roadroach    June 2000   The whole point of commercials is to get your..."
      ]
     },
     "execution_count": 12,
     "metadata": {},
     "output_type": "execute_result"
    }
   ],
   "source": [
    "comments.head(3) # see what the comments look like"
   ]
  },
  {
   "cell_type": "code",
   "execution_count": 13,
   "id": "f78a2b32-c639-43ba-b9ef-7ff2343f2d20",
   "metadata": {
    "tags": []
   },
   "outputs": [
    {
     "data": {
      "text/plain": [
       "8050"
      ]
     },
     "execution_count": 13,
     "metadata": {},
     "output_type": "execute_result"
    }
   ],
   "source": [
    "comments.shape[0] # number of rows int the file"
   ]
  },
  {
   "cell_type": "markdown",
   "id": "109e8c3f-1566-48d9-959f-7cbadaa0a786",
   "metadata": {},
   "source": [
    "**Note: some rows are skipped due to the formatting, but there are more than 5K lines of comments**"
   ]
  },
  {
   "cell_type": "markdown",
   "id": "a0ff1b00-9843-43db-98dc-f18f2c8b9d11",
   "metadata": {},
   "source": [
    "## Tokenization"
   ]
  },
  {
   "cell_type": "code",
   "execution_count": 14,
   "id": "a8b9922d-321e-4a3c-9d58-8b3bbb6d3c11",
   "metadata": {
    "tags": []
   },
   "outputs": [
    {
     "data": {
      "text/html": [
       "<div>\n",
       "<style scoped>\n",
       "    .dataframe tbody tr th:only-of-type {\n",
       "        vertical-align: middle;\n",
       "    }\n",
       "\n",
       "    .dataframe tbody tr th {\n",
       "        vertical-align: top;\n",
       "    }\n",
       "\n",
       "    .dataframe thead th {\n",
       "        text-align: right;\n",
       "    }\n",
       "</style>\n",
       "<table border=\"1\" class=\"dataframe\">\n",
       "  <thead>\n",
       "    <tr style=\"text-align: right;\">\n",
       "      <th></th>\n",
       "      <th>User Name</th>\n",
       "      <th>Comment Date</th>\n",
       "      <th>Full Comment</th>\n",
       "      <th>Sentences</th>\n",
       "      <th>Words</th>\n",
       "    </tr>\n",
       "  </thead>\n",
       "  <tbody>\n",
       "    <tr>\n",
       "      <th>0</th>\n",
       "      <td>bdreggors</td>\n",
       "      <td>June 2000</td>\n",
       "      <td>one of my current favorites is the lexus is c...</td>\n",
       "      <td>[ one of my current favorites is the lexus is ...</td>\n",
       "      <td>[one, of, my, current, favorites, is, the, lex...</td>\n",
       "    </tr>\n",
       "    <tr>\n",
       "      <th>1</th>\n",
       "      <td>markz2k</td>\n",
       "      <td>June 2000</td>\n",
       "      <td>what's the deal with the dog family in the od...</td>\n",
       "      <td>[ what's the deal with the dog family in the o...</td>\n",
       "      <td>[what, 's, the, deal, with, the, dog, family, ...</td>\n",
       "    </tr>\n",
       "    <tr>\n",
       "      <th>2</th>\n",
       "      <td>roadroach</td>\n",
       "      <td>June 2000</td>\n",
       "      <td>the whole point of commercials is to get your...</td>\n",
       "      <td>[ the whole point of commercials is to get you...</td>\n",
       "      <td>[the, whole, point, of, commercials, is, to, g...</td>\n",
       "    </tr>\n",
       "  </tbody>\n",
       "</table>\n",
       "</div>"
      ],
      "text/plain": [
       "   User Name Comment Date                                       Full Comment  \\\n",
       "0  bdreggors    June 2000   one of my current favorites is the lexus is c...   \n",
       "1    markz2k    June 2000   what's the deal with the dog family in the od...   \n",
       "2  roadroach    June 2000   the whole point of commercials is to get your...   \n",
       "\n",
       "                                           Sentences  \\\n",
       "0  [ one of my current favorites is the lexus is ...   \n",
       "1  [ what's the deal with the dog family in the o...   \n",
       "2  [ the whole point of commercials is to get you...   \n",
       "\n",
       "                                               Words  \n",
       "0  [one, of, my, current, favorites, is, the, lex...  \n",
       "1  [what, 's, the, deal, with, the, dog, family, ...  \n",
       "2  [the, whole, point, of, commercials, is, to, g...  "
      ]
     },
     "execution_count": 14,
     "metadata": {},
     "output_type": "execute_result"
    }
   ],
   "source": [
    "from nltk.tokenize import sent_tokenize, word_tokenize\n",
    "\n",
    "comments['Full Comment'] = comments['Full Comment'].apply(lambda x: str(x).lower())\n",
    "comments['Sentences'] = comments['Full Comment'].apply(lambda x: sent_tokenize(str(x)))\n",
    "comments['Words'] = comments['Full Comment'].apply(lambda x: word_tokenize(str(x)))\n",
    "\n",
    "comments.head(3)"
   ]
  },
  {
   "cell_type": "markdown",
   "id": "2079a29d-7ab5-4a9e-9bf3-3944d5f17323",
   "metadata": {},
   "source": [
    "# Recognizing Brand & Models"
   ]
  },
  {
   "cell_type": "code",
   "execution_count": 15,
   "id": "69469eec-a91c-42d7-a27b-8221511aa926",
   "metadata": {
    "tags": []
   },
   "outputs": [
    {
     "data": {
      "text/html": [
       "<div>\n",
       "<style scoped>\n",
       "    .dataframe tbody tr th:only-of-type {\n",
       "        vertical-align: middle;\n",
       "    }\n",
       "\n",
       "    .dataframe tbody tr th {\n",
       "        vertical-align: top;\n",
       "    }\n",
       "\n",
       "    .dataframe thead th {\n",
       "        text-align: right;\n",
       "    }\n",
       "</style>\n",
       "<table border=\"1\" class=\"dataframe\">\n",
       "  <thead>\n",
       "    <tr style=\"text-align: right;\">\n",
       "      <th></th>\n",
       "      <th>User Name</th>\n",
       "      <th>Comment Date</th>\n",
       "      <th>Full Comment</th>\n",
       "      <th>Sentences</th>\n",
       "      <th>Words</th>\n",
       "      <th>Contain Brand_Model</th>\n",
       "    </tr>\n",
       "  </thead>\n",
       "  <tbody>\n",
       "    <tr>\n",
       "      <th>0</th>\n",
       "      <td>bdreggors</td>\n",
       "      <td>June 2000</td>\n",
       "      <td>one of my current favorites is the lexus is c...</td>\n",
       "      <td>[ one of my current favorites is the lexus is ...</td>\n",
       "      <td>[one, of, my, current, favorites, is, the, lex...</td>\n",
       "      <td>[[toyota], []]</td>\n",
       "    </tr>\n",
       "    <tr>\n",
       "      <th>1</th>\n",
       "      <td>markz2k</td>\n",
       "      <td>June 2000</td>\n",
       "      <td>what's the deal with the dog family in the od...</td>\n",
       "      <td>[ what's the deal with the dog family in the o...</td>\n",
       "      <td>[what, 's, the, deal, with, the, dog, family, ...</td>\n",
       "      <td>[[], [accord]]</td>\n",
       "    </tr>\n",
       "    <tr>\n",
       "      <th>2</th>\n",
       "      <td>roadroach</td>\n",
       "      <td>June 2000</td>\n",
       "      <td>the whole point of commercials is to get your...</td>\n",
       "      <td>[ the whole point of commercials is to get you...</td>\n",
       "      <td>[the, whole, point, of, commercials, is, to, g...</td>\n",
       "      <td>[[toyota], [tundra]]</td>\n",
       "    </tr>\n",
       "  </tbody>\n",
       "</table>\n",
       "</div>"
      ],
      "text/plain": [
       "   User Name Comment Date                                       Full Comment  \\\n",
       "0  bdreggors    June 2000   one of my current favorites is the lexus is c...   \n",
       "1    markz2k    June 2000   what's the deal with the dog family in the od...   \n",
       "2  roadroach    June 2000   the whole point of commercials is to get your...   \n",
       "\n",
       "                                           Sentences  \\\n",
       "0  [ one of my current favorites is the lexus is ...   \n",
       "1  [ what's the deal with the dog family in the o...   \n",
       "2  [ the whole point of commercials is to get you...   \n",
       "\n",
       "                                               Words   Contain Brand_Model  \n",
       "0  [one, of, my, current, favorites, is, the, lex...        [[toyota], []]  \n",
       "1  [what, 's, the, deal, with, the, dog, family, ...        [[], [accord]]  \n",
       "2  [the, whole, point, of, commercials, is, to, g...  [[toyota], [tundra]]  "
      ]
     },
     "execution_count": 15,
     "metadata": {},
     "output_type": "execute_result"
    }
   ],
   "source": [
    "def extract_brands_models(words):\n",
    "    brand_part = []\n",
    "    model_part = []\n",
    "\n",
    "    for word in words:\n",
    "        if word in brand_list and word not in brand_part:\n",
    "            brand_part.append(word)\n",
    "        elif word in model_list and word not in model_part:\n",
    "            model_part.append(word)\n",
    "\n",
    "    return [brand_part, model_part]\n",
    "\n",
    "comments['Contain Brand_Model'] = comments['Words'].apply(extract_brands_models)\n",
    "comments.head(3)"
   ]
  },
  {
   "cell_type": "markdown",
   "id": "33682adf-4977-43fd-bcc3-a0ea727b0166",
   "metadata": {},
   "source": [
    "## Recognize Unique Brand"
   ]
  },
  {
   "cell_type": "code",
   "execution_count": 16,
   "id": "b45c4c82-76a0-4890-b133-bfc2ceea031a",
   "metadata": {
    "tags": []
   },
   "outputs": [
    {
     "data": {
      "text/html": [
       "<div>\n",
       "<style scoped>\n",
       "    .dataframe tbody tr th:only-of-type {\n",
       "        vertical-align: middle;\n",
       "    }\n",
       "\n",
       "    .dataframe tbody tr th {\n",
       "        vertical-align: top;\n",
       "    }\n",
       "\n",
       "    .dataframe thead th {\n",
       "        text-align: right;\n",
       "    }\n",
       "</style>\n",
       "<table border=\"1\" class=\"dataframe\">\n",
       "  <thead>\n",
       "    <tr style=\"text-align: right;\">\n",
       "      <th></th>\n",
       "      <th>User Name</th>\n",
       "      <th>Comment Date</th>\n",
       "      <th>Full Comment</th>\n",
       "      <th>Sentences</th>\n",
       "      <th>Words</th>\n",
       "      <th>Contain Brand_Model</th>\n",
       "      <th>Unique Brand</th>\n",
       "    </tr>\n",
       "  </thead>\n",
       "  <tbody>\n",
       "    <tr>\n",
       "      <th>0</th>\n",
       "      <td>bdreggors</td>\n",
       "      <td>June 2000</td>\n",
       "      <td>one of my current favorites is the lexus is c...</td>\n",
       "      <td>[ one of my current favorites is the lexus is ...</td>\n",
       "      <td>[one, of, my, current, favorites, is, the, lex...</td>\n",
       "      <td>[[toyota], []]</td>\n",
       "      <td>[toyota]</td>\n",
       "    </tr>\n",
       "    <tr>\n",
       "      <th>1</th>\n",
       "      <td>markz2k</td>\n",
       "      <td>June 2000</td>\n",
       "      <td>what's the deal with the dog family in the od...</td>\n",
       "      <td>[ what's the deal with the dog family in the o...</td>\n",
       "      <td>[what, 's, the, deal, with, the, dog, family, ...</td>\n",
       "      <td>[[], [accord]]</td>\n",
       "      <td>[honda]</td>\n",
       "    </tr>\n",
       "    <tr>\n",
       "      <th>2</th>\n",
       "      <td>roadroach</td>\n",
       "      <td>June 2000</td>\n",
       "      <td>the whole point of commercials is to get your...</td>\n",
       "      <td>[ the whole point of commercials is to get you...</td>\n",
       "      <td>[the, whole, point, of, commercials, is, to, g...</td>\n",
       "      <td>[[toyota], [tundra]]</td>\n",
       "      <td>[toyota]</td>\n",
       "    </tr>\n",
       "  </tbody>\n",
       "</table>\n",
       "</div>"
      ],
      "text/plain": [
       "   User Name Comment Date                                       Full Comment  \\\n",
       "0  bdreggors    June 2000   one of my current favorites is the lexus is c...   \n",
       "1    markz2k    June 2000   what's the deal with the dog family in the od...   \n",
       "2  roadroach    June 2000   the whole point of commercials is to get your...   \n",
       "\n",
       "                                           Sentences  \\\n",
       "0  [ one of my current favorites is the lexus is ...   \n",
       "1  [ what's the deal with the dog family in the o...   \n",
       "2  [ the whole point of commercials is to get you...   \n",
       "\n",
       "                                               Words   Contain Brand_Model  \\\n",
       "0  [one, of, my, current, favorites, is, the, lex...        [[toyota], []]   \n",
       "1  [what, 's, the, deal, with, the, dog, family, ...        [[], [accord]]   \n",
       "2  [the, whole, point, of, commercials, is, to, g...  [[toyota], [tundra]]   \n",
       "\n",
       "  Unique Brand  \n",
       "0     [toyota]  \n",
       "1      [honda]  \n",
       "2     [toyota]  "
      ]
     },
     "execution_count": 16,
     "metadata": {},
     "output_type": "execute_result"
    }
   ],
   "source": [
    "def extract_unique_brands(brand_model_list):\n",
    "    unique_brands = set()\n",
    "    for brand in brand_model_list[0]:\n",
    "        unique_brands.add(brand)\n",
    "    for model in brand_model_list[1]:\n",
    "        brand_from_dict = model_dict.get(model)\n",
    "        if brand_from_dict not in unique_brands:\n",
    "            unique_brands.add(brand_from_dict)\n",
    "\n",
    "    return list(unique_brands)\n",
    "\n",
    "comments['Unique Brand'] = comments['Contain Brand_Model'].apply(extract_unique_brands)\n",
    "comments.head(3)\n"
   ]
  },
  {
   "cell_type": "markdown",
   "id": "9ef73d7c-3c49-4529-96b3-441dd64bd284",
   "metadata": {},
   "source": [
    "## Frequency of Brand Mentions"
   ]
  },
  {
   "cell_type": "code",
   "execution_count": 25,
   "id": "df568251-915c-4f99-80a4-2987172395e5",
   "metadata": {
    "tags": []
   },
   "outputs": [
    {
     "data": {
      "text/html": [
       "<div>\n",
       "<style scoped>\n",
       "    .dataframe tbody tr th:only-of-type {\n",
       "        vertical-align: middle;\n",
       "    }\n",
       "\n",
       "    .dataframe tbody tr th {\n",
       "        vertical-align: top;\n",
       "    }\n",
       "\n",
       "    .dataframe thead th {\n",
       "        text-align: right;\n",
       "    }\n",
       "</style>\n",
       "<table border=\"1\" class=\"dataframe\">\n",
       "  <thead>\n",
       "    <tr style=\"text-align: right;\">\n",
       "      <th></th>\n",
       "      <th>Brand</th>\n",
       "      <th>Count</th>\n",
       "    </tr>\n",
       "  </thead>\n",
       "  <tbody>\n",
       "    <tr>\n",
       "      <th>0</th>\n",
       "      <td>toyota</td>\n",
       "      <td>897</td>\n",
       "    </tr>\n",
       "    <tr>\n",
       "      <th>1</th>\n",
       "      <td>honda</td>\n",
       "      <td>558</td>\n",
       "    </tr>\n",
       "    <tr>\n",
       "      <th>4</th>\n",
       "      <td>ford</td>\n",
       "      <td>506</td>\n",
       "    </tr>\n",
       "    <tr>\n",
       "      <th>2</th>\n",
       "      <td>chevrolet</td>\n",
       "      <td>480</td>\n",
       "    </tr>\n",
       "    <tr>\n",
       "      <th>5</th>\n",
       "      <td>volkswagen</td>\n",
       "      <td>408</td>\n",
       "    </tr>\n",
       "    <tr>\n",
       "      <th>13</th>\n",
       "      <td>hyundai</td>\n",
       "      <td>350</td>\n",
       "    </tr>\n",
       "    <tr>\n",
       "      <th>11</th>\n",
       "      <td>subaru</td>\n",
       "      <td>296</td>\n",
       "    </tr>\n",
       "    <tr>\n",
       "      <th>6</th>\n",
       "      <td>nissan</td>\n",
       "      <td>267</td>\n",
       "    </tr>\n",
       "    <tr>\n",
       "      <th>3</th>\n",
       "      <td>bmw</td>\n",
       "      <td>258</td>\n",
       "    </tr>\n",
       "    <tr>\n",
       "      <th>10</th>\n",
       "      <td>mercedes</td>\n",
       "      <td>246</td>\n",
       "    </tr>\n",
       "  </tbody>\n",
       "</table>\n",
       "</div>"
      ],
      "text/plain": [
       "         Brand  Count\n",
       "0       toyota    897\n",
       "1        honda    558\n",
       "4         ford    506\n",
       "2    chevrolet    480\n",
       "5   volkswagen    408\n",
       "13     hyundai    350\n",
       "11      subaru    296\n",
       "6       nissan    267\n",
       "3          bmw    258\n",
       "10    mercedes    246"
      ]
     },
     "execution_count": 25,
     "metadata": {},
     "output_type": "execute_result"
    }
   ],
   "source": [
    "brand_in_comments = [brand for brands_list in comments['Unique Brand'] for brand in brands_list if brand]\n",
    "\n",
    "unique_brand_count = {}\n",
    "for i in brand_in_comments:\n",
    "    if i not in unique_brand_count:\n",
    "        unique_brand_count[i] = 0\n",
    "    else:\n",
    "        pass\n",
    "    unique_brand_count[i] += 1\n",
    "\n",
    "brand_count_df = pd.DataFrame(list(unique_brand_count.items()), columns=['Brand', 'Count']).sort_values(by='Count', ascending=False)\n",
    "brand_count_df.head(10)"
   ]
  },
  {
   "cell_type": "markdown",
   "id": "a25e604e-2d0e-42bf-83f5-4c5225c5a8ca",
   "metadata": {},
   "source": [
    "# Task A"
   ]
  },
  {
   "cell_type": "markdown",
   "id": "7fc552d1-010b-4e4d-9ab3-d9a530e47d37",
   "metadata": {},
   "source": [
    "## Identify top 10 brands by frequency"
   ]
  },
  {
   "cell_type": "code",
   "execution_count": 28,
   "id": "2e8942ac-610f-4ac1-85c1-a629c5f228ee",
   "metadata": {
    "tags": []
   },
   "outputs": [
    {
     "data": {
      "text/plain": [
       "['toyota',\n",
       " 'honda',\n",
       " 'ford',\n",
       " 'chevrolet',\n",
       " 'volkswagen',\n",
       " 'hyundai',\n",
       " 'subaru',\n",
       " 'nissan',\n",
       " 'bmw',\n",
       " 'mercedes']"
      ]
     },
     "execution_count": 28,
     "metadata": {},
     "output_type": "execute_result"
    }
   ],
   "source": [
    "top10brand = brand_count_df['Brand'].head(10).tolist()\n",
    "top10brand"
   ]
  },
  {
   "cell_type": "markdown",
   "id": "45b7128c-6eb3-49fb-b005-4b4113f28ce7",
   "metadata": {
    "tags": []
   },
   "source": [
    "## Lift ratios for associations between brands"
   ]
  },
  {
   "cell_type": "code",
   "execution_count": null,
   "id": "7634ca90-bc30-4a5c-9e75-2bb38cf0b6cb",
   "metadata": {},
   "outputs": [],
   "source": []
  },
  {
   "cell_type": "markdown",
   "id": "a825da6f-4483-42b1-9c5e-248a4b550b36",
   "metadata": {},
   "source": [
    "## Brands on MDS map"
   ]
  },
  {
   "cell_type": "code",
   "execution_count": null,
   "id": "81ac0239-83d9-4b8d-bf78-23f162fa3a3a",
   "metadata": {},
   "outputs": [],
   "source": []
  },
  {
   "cell_type": "markdown",
   "id": "9b0afe6b-e0ae-46ca-a5ed-38c7fcb3f581",
   "metadata": {},
   "source": [
    "# Task B"
   ]
  },
  {
   "cell_type": "markdown",
   "id": "3eafded9-18b2-4941-8591-38695279f03f",
   "metadata": {},
   "source": [
    "What insights can you offer brand managers from your analysis in Task A? Choose two brands that you can offer the most interesting/useful insights for."
   ]
  },
  {
   "cell_type": "code",
   "execution_count": null,
   "id": "d3c2280e-8d29-48ae-9133-038575339f3a",
   "metadata": {},
   "outputs": [],
   "source": []
  },
  {
   "cell_type": "markdown",
   "id": "ac5eae22-cabd-4862-addf-61e6c16dd911",
   "metadata": {},
   "source": [
    "# Task C"
   ]
  },
  {
   "cell_type": "markdown",
   "id": "09532ecb-e0fa-4fcd-9023-5b922493fd94",
   "metadata": {},
   "source": [
    "What are the 5 most frequently mentioned attributes of cars in the discussions? Note that the same attribute may be described by different words – e.g., pick-up and acceleration may both refer to a more general attribute, “performance”. You have to make suitable replacements. Now pick the 5 most frequently mentioned brands. Which attributes are most strongly associated with which of these 5 brands?"
   ]
  },
  {
   "cell_type": "code",
   "execution_count": null,
   "id": "7b927969-d883-4fac-ac6f-5cee829a24e5",
   "metadata": {},
   "outputs": [],
   "source": []
  },
  {
   "cell_type": "markdown",
   "id": "018ec7e2-44ae-43f6-9a36-ba639e63ef74",
   "metadata": {},
   "source": [
    "# Task D"
   ]
  },
  {
   "cell_type": "markdown",
   "id": "a106c70c-185a-4986-b6dd-52e0d707994a",
   "metadata": {},
   "source": [
    "What advice will you give to a (i) product manager, and (ii) marketing/advertising manager of these brands based on your analysis in Task C?"
   ]
  },
  {
   "cell_type": "code",
   "execution_count": null,
   "id": "16784fcf-0f56-456c-90bb-346bbe36f80c",
   "metadata": {},
   "outputs": [],
   "source": []
  },
  {
   "cell_type": "markdown",
   "id": "9027b1bb-dfad-4812-939e-d2641a9ae228",
   "metadata": {},
   "source": [
    "# Task E"
   ]
  },
  {
   "cell_type": "markdown",
   "id": "996a6945-5c42-480b-bb78-9c68aef2adf6",
   "metadata": {},
   "source": [
    "Which is the most aspirational brand in your data in terms of people actually wanting to buy or own? Describe your analysis. What are the business implications for this brand?"
   ]
  },
  {
   "cell_type": "code",
   "execution_count": null,
   "id": "d3f382a7-d921-424b-9c11-382725a6c555",
   "metadata": {},
   "outputs": [],
   "source": []
  }
 ],
 "metadata": {
  "kernelspec": {
   "display_name": "Python 3 (ipykernel)",
   "language": "python",
   "name": "python3"
  },
  "language_info": {
   "codemirror_mode": {
    "name": "ipython",
    "version": 3
   },
   "file_extension": ".py",
   "mimetype": "text/x-python",
   "name": "python",
   "nbconvert_exporter": "python",
   "pygments_lexer": "ipython3",
   "version": "3.11.5"
  }
 },
 "nbformat": 4,
 "nbformat_minor": 5
}
